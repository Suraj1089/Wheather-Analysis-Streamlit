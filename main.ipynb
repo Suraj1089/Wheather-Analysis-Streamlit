{
 "cells": [],
 "metadata": {
  "kernelspec": {
   "display_name": "Python 3.9.5 64-bit",
   "language": "python",
   "name": "python3"
  },
  "language_info": {
   "codemirror_mode": {
    "name": "ipython",
    "version": 3
   },
   "file_extension": ".py",
   "mimetype": "text/x-python",
   "name": "python",
   "nbconvert_exporter": "python",
   "pygments_lexer": "ipython3",
   "version": "3.9.5"
  },
  "orig_nbformat": 4,
  "vscode": {
   "interpreter": {
    "hash": "14fd08bda75d9ac8e07dcdf5f26eb9dac6f77230c61be8fa3434d052e82eaed3"
   }
  }
 },
 "nbformat": 4,
 "nbformat_minor": 2
}
